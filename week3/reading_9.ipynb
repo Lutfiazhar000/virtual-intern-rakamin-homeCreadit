{
 "cells": [
  {
   "cell_type": "code",
   "execution_count": 1,
   "id": "3b3ac8c8-222c-4e36-9f7b-500a9863dd9b",
   "metadata": {},
   "outputs": [],
   "source": [
    "import pandas as pd\n",
    "import numpy as np"
   ]
  },
  {
   "cell_type": "code",
   "execution_count": 4,
   "id": "7449f7fd-6f44-4fa1-82d3-b6d7650c3964",
   "metadata": {},
   "outputs": [],
   "source": [
    "np.random.seed(88)\n",
    "df = pd.DataFrame({'A': np.linspace(1,10,100)})\n",
    "df = pd.concat([df,pd.DataFrame(np.random.randn(10,4), columns=list('BCDE'))],axis=1)\n",
    "\n",
    "df.iloc[3,3] = np.nan\n",
    "df.iloc[0,2] = np.nan"
   ]
  },
  {
   "cell_type": "code",
   "execution_count": 5,
   "id": "9a2d1901-dc00-4f2d-bd26-3cd62ea9f469",
   "metadata": {},
   "outputs": [
    {
     "name": "stdout",
     "output_type": "stream",
     "text": [
      "            A         B         C         D         E\n",
      "0    1.000000  0.106884       NaN  0.956563  0.068411\n",
      "1    1.090909  1.068514  0.997183 -0.931548  0.730430\n",
      "2    1.181818 -0.171214 -1.288691  1.061436 -0.040501\n",
      "3    1.272727 -0.903721 -1.554133       NaN  0.200526\n",
      "4    1.363636 -0.747329  1.068081 -0.277024  0.086557\n",
      "..        ...       ...       ...       ...       ...\n",
      "95   9.636364       NaN       NaN       NaN       NaN\n",
      "96   9.727273       NaN       NaN       NaN       NaN\n",
      "97   9.818182       NaN       NaN       NaN       NaN\n",
      "98   9.909091       NaN       NaN       NaN       NaN\n",
      "99  10.000000       NaN       NaN       NaN       NaN\n",
      "\n",
      "[100 rows x 5 columns]\n"
     ]
    }
   ],
   "source": [
    "print(df)"
   ]
  },
  {
   "cell_type": "code",
   "execution_count": null,
   "id": "dfa778bb-3673-46be-bbb3-f38372bb72eb",
   "metadata": {},
   "outputs": [],
   "source": []
  }
 ],
 "metadata": {
  "kernelspec": {
   "display_name": "Python 3 (ipykernel)",
   "language": "python",
   "name": "python3"
  },
  "language_info": {
   "codemirror_mode": {
    "name": "ipython",
    "version": 3
   },
   "file_extension": ".py",
   "mimetype": "text/x-python",
   "name": "python",
   "nbconvert_exporter": "python",
   "pygments_lexer": "ipython3",
   "version": "3.9.13"
  }
 },
 "nbformat": 4,
 "nbformat_minor": 5
}
