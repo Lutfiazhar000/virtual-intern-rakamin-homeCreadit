{
 "cells": [
  {
   "cell_type": "code",
   "execution_count": 2,
   "id": "572709c9-42a9-408c-8b6b-b3afe9117951",
   "metadata": {},
   "outputs": [],
   "source": [
    "import pandas as pd\n",
    "import numpy as np"
   ]
  },
  {
   "cell_type": "code",
   "execution_count": 3,
   "id": "afebf897-a396-4873-8ebf-5d4aa997aca6",
   "metadata": {},
   "outputs": [],
   "source": [
    "df = pd.DataFrame({'foo': ['one','one','one','two','two','two'],\n",
    "                   'bar': ['a','b','c','A','B','C'],\n",
    "                   'baz': [1,2,3,4,5,6],\n",
    "                   'zoo': ['x','y','z','q','w','t']})"
   ]
  },
  {
   "cell_type": "code",
   "execution_count": 4,
   "id": "216d3385-74a3-4056-81a4-814557422579",
   "metadata": {},
   "outputs": [],
   "source": [
    "df2 = df.pivot(index='foo',columns='bar',values='baz')\n",
    "df3 = df.pivot(index='bar',columns='foo')['baz']"
   ]
  },
  {
   "cell_type": "code",
   "execution_count": 6,
   "id": "b3878c5e-29d2-4051-b1f0-da88751c31d7",
   "metadata": {},
   "outputs": [
    {
     "name": "stdout",
     "output_type": "stream",
     "text": [
      "   foo bar  baz zoo\n",
      "0  one   a    1   x\n",
      "1  one   b    2   y\n",
      "2  one   c    3   z\n",
      "3  two   A    4   q\n",
      "4  two   B    5   w\n",
      "5  two   C    6   t \n",
      "\n",
      "contoh pivot\n",
      "bar    A    B    C    a    b    c\n",
      "foo                              \n",
      "one  NaN  NaN  NaN  1.0  2.0  3.0\n",
      "two  4.0  5.0  6.0  NaN  NaN  NaN \n",
      "\n",
      "contoh pivot\n",
      "foo  one  two\n",
      "bar          \n",
      "A    NaN  4.0\n",
      "B    NaN  5.0\n",
      "C    NaN  6.0\n",
      "a    1.0  NaN\n",
      "b    2.0  NaN\n",
      "c    3.0  NaN\n"
     ]
    }
   ],
   "source": [
    "print(df,'\\n')\n",
    "print('contoh pivot')\n",
    "print(df2,'\\n')\n",
    "print('contoh pivot')\n",
    "print(df3)"
   ]
  },
  {
   "cell_type": "code",
   "execution_count": null,
   "id": "e7a9aa98-35c7-41f6-bbad-8f8466edeb97",
   "metadata": {},
   "outputs": [],
   "source": []
  }
 ],
 "metadata": {
  "kernelspec": {
   "display_name": "Python 3 (ipykernel)",
   "language": "python",
   "name": "python3"
  },
  "language_info": {
   "codemirror_mode": {
    "name": "ipython",
    "version": 3
   },
   "file_extension": ".py",
   "mimetype": "text/x-python",
   "name": "python",
   "nbconvert_exporter": "python",
   "pygments_lexer": "ipython3",
   "version": "3.9.13"
  }
 },
 "nbformat": 4,
 "nbformat_minor": 5
}
